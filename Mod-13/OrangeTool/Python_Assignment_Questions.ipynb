{
  "cells": [
    {
      "cell_type": "markdown",
      "id": "826f0eb4",
      "metadata": {
        "id": "826f0eb4"
      },
      "source": [
        "# 🧩 Part 1: Classification - Employee Churn Management\n",
        "\n",
        "\n",
        "Employee churn, often referred to as attrition or turnover, is a critical concern for organizations across various industries. It entails the departure of valuable talent from an organization, which not only incurs significant financial costs but also disrupts productivity and can have a negative impact on team morale. Predicting employee churn has thus become a vital task for organizations seeking to proactively address this issue. This problem is inherently a binary classification task, it involves categorizing employees into two distinct groups: those likely to churn and those likely to stay with the organization, making it a quintessential example of binary classification in machine learning.\n",
        "\n",
        "## Objective\n",
        "\n",
        "This assignment aims to develop classification models (KNN, Decision Tree and Random Forests) using Python to predict employee churn. The primary objective is to utilize historical employee data to build a predictive model that can accurately identify individuals at risk of leaving the organization. By doing so, organizations can implement targeted retention strategies and interventions, ultimately reducing the overall churn rate and fostering a more stable and motivated workforce.\n",
        "\n",
        "## Dataset\n",
        "\n",
        "For this assignment, you will be working with the churn.csv dataset, which focuses on employee churn prediction. The dataset contains information on various attributes related to employee performance and experiences within the company.\n",
        "\n",
        "This dataset comprises 14,999 samples, featuring 10 attributes. Among these, 6 are of integer type, 2 are of float type, and 2 are categorical objects. It's worth noting that none of the variables have missing or null values.\n",
        "\n",
        "The attributes can be described in detail as follows:\n",
        "\n",
        "1. `satisfaction_level`: This represents the level of employee satisfaction, ranging from 0 to 1.\n",
        "2. `last_evaluation`: This indicates the performance evaluation conducted by the employer, also on a scale of 0 to 1.\n",
        "3. `number_projects`: This denotes the number of projects assigned to an employee.\n",
        "4. `average_monthly_hours`: This reflects the average number of hours worked by an employee in a month.\n",
        "5. `time_spent_company`: This signifies the number of years an employee has spent in the company, indicating their level of experience.\n",
        "6. `work_accident`: This binary attribute indicates whether an employee has experienced a work-related accident or not.\n",
        "7. `promotion_last_5years`: This binary attribute indicates whether an employee has received a promotion in the last 5 years or not.\n",
        "8. `Departments`: This categorical attribute represents the employee's working department or division.\n",
        "9. `salary`: This categorical attribute specifies the salary level of the employee, categorized as low, medium, or high.\n",
        "10. `left`: This is the target variable, indicating whether the employee has left the company (1) or not (0).\n",
        "\n",
        "The main focus of this assignment is to predict employee churn, with the `left` variable serving as the key target for classification. This prediction will be based on the information provided by the other attributes in the dataset.\n",
        "\n",
        "## Tasks\n",
        "\n",
        "\n",
        "#### Task 1: Data Exploration\n",
        "- Load the dataset using `pandas.read_csv()`.\n",
        "- Use `.info()` and `.describe()` to get data structure and statistics.\n",
        "- Use `.value_counts()` on the `left` column to understand class distribution.\n"
      ]
    },
    {
      "cell_type": "code",
      "execution_count": null,
      "id": "6db0bd8d",
      "metadata": {
        "colab": {
          "base_uri": "https://localhost:8080/"
        },
        "id": "6db0bd8d",
        "outputId": "a72b0f09-b2f9-4512-a7ff-ab564739fce9"
      },
      "outputs": [
        {
          "output_type": "stream",
          "name": "stdout",
          "text": [
            "<class 'pandas.core.frame.DataFrame'>\n",
            "RangeIndex: 14999 entries, 0 to 14998\n",
            "Data columns (total 10 columns):\n",
            " #   Column                 Non-Null Count  Dtype  \n",
            "---  ------                 --------------  -----  \n",
            " 0   satisfaction_level     14999 non-null  float64\n",
            " 1   last_evaluation        14999 non-null  float64\n",
            " 2   number_project         14999 non-null  int64  \n",
            " 3   average_montly_hours   14999 non-null  int64  \n",
            " 4   time_spend_company     14999 non-null  int64  \n",
            " 5   Work_accident          14999 non-null  int64  \n",
            " 6   left                   14999 non-null  int64  \n",
            " 7   promotion_last_5years  14999 non-null  int64  \n",
            " 8   Departments            14999 non-null  object \n",
            " 9   salary                 14999 non-null  object \n",
            "dtypes: float64(2), int64(6), object(2)\n",
            "memory usage: 1.1+ MB\n",
            "None\n",
            "       satisfaction_level  last_evaluation  number_project  \\\n",
            "count        14999.000000     14999.000000    14999.000000   \n",
            "mean             0.612834         0.716102        3.803054   \n",
            "std              0.248631         0.171169        1.232592   \n",
            "min              0.090000         0.360000        2.000000   \n",
            "25%              0.440000         0.560000        3.000000   \n",
            "50%              0.640000         0.720000        4.000000   \n",
            "75%              0.820000         0.870000        5.000000   \n",
            "max              1.000000         1.000000        7.000000   \n",
            "\n",
            "       average_montly_hours  time_spend_company  Work_accident          left  \\\n",
            "count          14999.000000        14999.000000   14999.000000  14999.000000   \n",
            "mean             201.050337            3.498233       0.144610      0.238083   \n",
            "std               49.943099            1.460136       0.351719      0.425924   \n",
            "min               96.000000            2.000000       0.000000      0.000000   \n",
            "25%              156.000000            3.000000       0.000000      0.000000   \n",
            "50%              200.000000            3.000000       0.000000      0.000000   \n",
            "75%              245.000000            4.000000       0.000000      0.000000   \n",
            "max              310.000000           10.000000       1.000000      1.000000   \n",
            "\n",
            "       promotion_last_5years  \n",
            "count           14999.000000  \n",
            "mean                0.021268  \n",
            "std                 0.144281  \n",
            "min                 0.000000  \n",
            "25%                 0.000000  \n",
            "50%                 0.000000  \n",
            "75%                 0.000000  \n",
            "max                 1.000000  \n",
            "left\n",
            "0    0.761917\n",
            "1    0.238083\n",
            "Name: proportion, dtype: float64\n"
          ]
        }
      ],
      "source": [
        "import pandas as pd\n",
        "\n",
        "# Load dataset\n",
        "\n",
        "# Basic statistics\n",
        "\n",
        "# Distribution of target variable\n"
      ]
    },
    {
      "cell_type": "markdown",
      "source": [
        "#### Task 2: Data Preprocessing\n",
        "- Encode `Departments` and `salary` using `LabelEncoder` to convert categorical to numeric.\n",
        "- Separate features and labels into `X` and `y`.\n",
        "- Use `train_test_split()` from `sklearn.model_selection` to split the dataset (80% train, 20% test).\n"
      ],
      "metadata": {
        "id": "UObqx6AcFnfs"
      },
      "id": "UObqx6AcFnfs"
    },
    {
      "cell_type": "code",
      "execution_count": null,
      "id": "483e6ae3",
      "metadata": {
        "id": "483e6ae3"
      },
      "outputs": [],
      "source": [
        "from sklearn.model_selection import train_test_split\n",
        "from sklearn.preprocessing import LabelEncoder\n",
        "\n",
        "# Encode categorical features\n",
        "df_encoded = df.copy()\n",
        "for col in ['Departments', 'salary']:\n",
        "    df_encoded[col] = None # Complete this line\n",
        "\n",
        "# Features and target\n",
        "X = None # Complete this line\n",
        "y = None # Complete this line\n",
        "\n",
        "# Train-test split\n",
        "X_train, X_test, y_train, y_test = None # Complete this line\n"
      ]
    },
    {
      "cell_type": "markdown",
      "source": [
        "#### Task 3: k-Nearest Neighbors (kNN)\n",
        "- Initialize `KNeighborsClassifier()` and fit it on training data.\n",
        "- Predict on the test set using `.predict()`.\n",
        "- Evaluate using `accuracy_score()` and `confusion_matrix()` from `sklearn.metrics`.\n",
        "- Experiment with different distance metrics like `'euclidean'` and `'manhattan'` using the `metric` parameter."
      ],
      "metadata": {
        "id": "rVJCBvFiFs2p"
      },
      "id": "rVJCBvFiFs2p"
    },
    {
      "cell_type": "code",
      "execution_count": null,
      "id": "26b7f113",
      "metadata": {
        "colab": {
          "base_uri": "https://localhost:8080/"
        },
        "id": "26b7f113",
        "outputId": "a0b39f56-0ea4-4d9d-94e0-2840648f41b8"
      },
      "outputs": [
        {
          "output_type": "stream",
          "name": "stdout",
          "text": [
            "Accuracy (kNN): 0.9306666666666666\n",
            "Confusion Matrix:\n",
            " [[2151  143]\n",
            " [  65  641]]\n"
          ]
        }
      ],
      "source": [
        "from sklearn.neighbors import KNeighborsClassifier\n",
        "from sklearn.metrics import accuracy_score, confusion_matrix\n",
        "\n",
        "# Define knn model\n",
        "knn = None # Complete this line\n",
        "knn.fit(X_train, y_train)\n",
        "\n",
        "# Predict\n",
        "y_pred_knn = knn.predict(X_test)\n",
        "\n",
        "# Print accuracy score and confusion matrix\n"
      ]
    },
    {
      "cell_type": "code",
      "execution_count": null,
      "id": "fc7d02f5",
      "metadata": {
        "colab": {
          "base_uri": "https://localhost:8080/"
        },
        "id": "fc7d02f5",
        "outputId": "920950ff-4785-417c-8f81-27ecfef1bf4b"
      },
      "outputs": [
        {
          "output_type": "stream",
          "name": "stdout",
          "text": [
            "Manhattan Metric Accuracy: 0.931\n"
          ]
        }
      ],
      "source": [
        "# Trying different distance metrics\n",
        "\n"
      ]
    },
    {
      "cell_type": "markdown",
      "source": [
        "#### Task 4: Decision Tree Classifier\n",
        "- Train a `DecisionTreeClassifier()` with various `max_depth` values.\n",
        "- Predict on the test data.\n",
        "- Measure model performance using accuracy and confusion matrix.\n",
        "- Observe the effect of tree depth on overfitting/underfitting."
      ],
      "metadata": {
        "id": "xOsOLrQBFxSD"
      },
      "id": "xOsOLrQBFxSD"
    },
    {
      "cell_type": "code",
      "execution_count": null,
      "id": "fd3ff266",
      "metadata": {
        "colab": {
          "base_uri": "https://localhost:8080/"
        },
        "id": "fd3ff266",
        "outputId": "04cb3e81-db7c-4e2c-9bfc-f9cea4c85aa1"
      },
      "outputs": [
        {
          "output_type": "stream",
          "name": "stdout",
          "text": [
            "Accuracy (Decision Tree): 0.9716666666666667\n"
          ]
        }
      ],
      "source": [
        "from sklearn.tree import DecisionTreeClassifier\n",
        "\n",
        "# Define DT model\n",
        "tree = None # Complete this line\n",
        "tree.fit(X_train, y_train)\n",
        "\n",
        "# Predict\n",
        "y_pred_tree = tree.predict(X_test)\n",
        "\n",
        "# Print accuracy score and confusion matrix\n"
      ]
    },
    {
      "cell_type": "markdown",
      "source": [
        "#### Task 5: Random Forest Classifier\n",
        "- Use `RandomForestClassifier()` with default or custom number of trees.\n",
        "- Train and test the model similarly.\n",
        "- Adjust `n_estimators` to study the effect on performance and stability."
      ],
      "metadata": {
        "id": "EW9ov9fZFzP4"
      },
      "id": "EW9ov9fZFzP4"
    },
    {
      "cell_type": "code",
      "execution_count": null,
      "id": "9f326968",
      "metadata": {
        "colab": {
          "base_uri": "https://localhost:8080/"
        },
        "id": "9f326968",
        "outputId": "bb11f25a-1d8b-4ddb-dc26-d3828b8174f5"
      },
      "outputs": [
        {
          "output_type": "stream",
          "name": "stdout",
          "text": [
            "Accuracy (Random Forest): 0.9883333333333333\n"
          ]
        }
      ],
      "source": [
        "from sklearn.ensemble import RandomForestClassifier\n",
        "\n",
        "# Define RF model\n",
        "rf = None # Complete this line\n",
        "rf.fit(X_train, y_train)\n",
        "\n",
        "# Predict\n",
        "y_pred_rf = rf.predict(X_test)\n",
        "\n",
        "# Print accuracy score and confusion matrix\n"
      ]
    },
    {
      "cell_type": "markdown",
      "id": "dfb8c2b2",
      "metadata": {
        "id": "dfb8c2b2"
      },
      "source": [
        "# 🚗 Part 2: Regression - Auto MPG Prediction\n",
        "\n",
        "Predicting fuel efficiency, measured as miles per gallon (mpg), is a crucial task in the automotive industry. This assignment focuses on developing a linear regression model using Orange to predict the MPG of cars based on various features. The goal is to leverage the Auto MPG dataset, which contains information on displacement, cylinders, horsepower, weight, acceleration, model year, and origin, to build an accurate predictive model.\n",
        "\n",
        "## Objective\n",
        "\n",
        "This assignment aims to create a linear regression model using Python to predict the fuel efficiency (mpg) of cars. By utilizing historical data on various car features, the objective is to build a model that can effectively estimate the mpg for new cars. This predictive capability is valuable for designing fuel-efficient vehicles and making informed decisions in the automotive industry.\n",
        "\n",
        "## Dataset\n",
        "\n",
        "For this assignment, the Auto MPG dataset will be used, featuring information on different car attributes. The dataset comprises 398 samples and includes the following attributes:\n",
        "\n",
        "1. `displacement`: Continuous feature representing the engine displacement of the car.\n",
        "2. `mpg`: Continuous target variable representing the miles per gallon.\n",
        "3. `cylinders`: Integer feature indicating the number of cylinders in the car's engine.\n",
        "4. `horsepower`: Continuous feature representing the horsepower of the car.\n",
        "5. `weight`: Continuous feature indicating the weight of the car.\n",
        "6. `acceleration`: Continuous feature representing the acceleration performance of the car.\n",
        "7. `model_year`: Integer feature indicating the manufacturing year of the car.\n",
        "8. `origin`: Integer feature indicating the origin of the car.\n",
        "9. `car_name`: Categorical ID feature representing the name of the car.\n",
        "\n",
        "## Tasks\n",
        "\n",
        "#### Task 1: Data Exploration\n",
        "- Load dataset using `pandas.read_csv()`.\n",
        "- Use `.info()`, `.describe()`, and `.hist()` to understand distributions.\n"
      ]
    },
    {
      "cell_type": "code",
      "execution_count": null,
      "id": "bf220c22",
      "metadata": {
        "colab": {
          "base_uri": "https://localhost:8080/",
          "height": 1000
        },
        "id": "bf220c22",
        "outputId": "a8f0cea5-bd78-4bab-d8e7-88a7a1eb0402"
      },
      "outputs": [
        {
          "output_type": "stream",
          "name": "stdout",
          "text": [
            "<class 'pandas.core.frame.DataFrame'>\n",
            "RangeIndex: 398 entries, 0 to 397\n",
            "Data columns (total 9 columns):\n",
            " #   Column        Non-Null Count  Dtype  \n",
            "---  ------        --------------  -----  \n",
            " 0   mpg           398 non-null    float64\n",
            " 1   car name      398 non-null    object \n",
            " 2   cylinders     398 non-null    int64  \n",
            " 3   displacement  398 non-null    float64\n",
            " 4   horsepower    392 non-null    float64\n",
            " 5   weight        398 non-null    int64  \n",
            " 6   acceleration  398 non-null    float64\n",
            " 7   model year    398 non-null    int64  \n",
            " 8   origin        398 non-null    int64  \n",
            "dtypes: float64(4), int64(4), object(1)\n",
            "memory usage: 28.1+ KB\n",
            "None\n",
            "              mpg   cylinders  displacement  horsepower       weight  \\\n",
            "count  398.000000  398.000000    398.000000  392.000000   398.000000   \n",
            "mean    23.514573    5.454774    193.425879  104.469388  2970.424623   \n",
            "std      7.815984    1.701004    104.269838   38.491160   846.841774   \n",
            "min      9.000000    3.000000     68.000000   46.000000  1613.000000   \n",
            "25%     17.500000    4.000000    104.250000   75.000000  2223.750000   \n",
            "50%     23.000000    4.000000    148.500000   93.500000  2803.500000   \n",
            "75%     29.000000    8.000000    262.000000  126.000000  3608.000000   \n",
            "max     46.600000    8.000000    455.000000  230.000000  5140.000000   \n",
            "\n",
            "       acceleration  model year      origin  \n",
            "count    398.000000  398.000000  398.000000  \n",
            "mean      15.568090   76.010050    1.572864  \n",
            "std        2.757689    3.697627    0.802055  \n",
            "min        8.000000   70.000000    1.000000  \n",
            "25%       13.825000   73.000000    1.000000  \n",
            "50%       15.500000   76.000000    1.000000  \n",
            "75%       17.175000   79.000000    2.000000  \n",
            "max       24.800000   82.000000    3.000000  \n"
          ]
        },
        {
          "output_type": "execute_result",
          "data": {
            "text/plain": [
              "<Axes: >"
            ]
          },
          "metadata": {},
          "execution_count": 10
        },
        {
          "output_type": "display_data",
          "data": {
            "text/plain": [
              "<Figure size 640x480 with 1 Axes>"
            ],
            "image/png": "[encoded data removed]"
          },
          "metadata": {}
        }
      ],
      "source": [
        "# Load dataset\n",
        "\n",
        "# Basic statistics\n",
        "\n",
        "# Distribution of target variable (mpg)\n"
      ]
    },
    {
      "cell_type": "markdown",
      "source": [
        "#### Task 2: Data Preprocessing\n",
        "- Drop `car_name` since it's a unique identifier.\n",
        "- Convert `horsepower` to numeric; handle `?` values with `errors='coerce'` and drop rows with NaNs.\n",
        "- Define `X` and `y`, then split into train/test sets."
      ],
      "metadata": {
        "id": "jZ3BwmlUF-uh"
      },
      "id": "jZ3BwmlUF-uh"
    },
    {
      "cell_type": "code",
      "execution_count": null,
      "id": "80dd796c",
      "metadata": {
        "id": "80dd796c"
      },
      "outputs": [],
      "source": [
        "# Remove car name column\n",
        "df = None # Complete this line\n",
        "\n",
        "# Convert horsepower and remove rows with NA\n",
        "\n",
        "# Features and target\n",
        "X = None # Complete this line\n",
        "y = None # Complete this line\n",
        "\n",
        "# Train-test split\n",
        "X_train, X_test, y_train, y_test = None # Complete this line\n"
      ]
    },
    {
      "cell_type": "markdown",
      "source": [
        "#### Task 3: Linear Regression\n",
        "- Train a `LinearRegression()` model on the training data.\n",
        "- Predict test values and calculate Mean Squared Error using `mean_squared_error()`.\n"
      ],
      "metadata": {
        "id": "o0HRxox0GENO"
      },
      "id": "o0HRxox0GENO"
    },
    {
      "cell_type": "code",
      "execution_count": null,
      "id": "abe40f53",
      "metadata": {
        "colab": {
          "base_uri": "https://localhost:8080/"
        },
        "id": "abe40f53",
        "outputId": "e13003ac-efee-449a-e520-7e2baba69a9f"
      },
      "outputs": [
        {
          "output_type": "stream",
          "name": "stdout",
          "text": [
            "MSE (Linear Regression): 10.710864418838366\n"
          ]
        }
      ],
      "source": [
        "from sklearn.linear_model import LinearRegression, Ridge\n",
        "from sklearn.metrics import mean_squared_error\n",
        "\n",
        "# Define LinearRegression model\n",
        "lr = None # Complete this line\n",
        "lr.fit(X_train, y_train)\n",
        "\n",
        "# Predict\n",
        "y_pred_lr = lr.predict(X_test)\n",
        "\n",
        "# Print MSE\n"
      ]
    },
    {
      "cell_type": "markdown",
      "source": [
        "#### Task 4: Ridge Regularization\n",
        "- Use `Ridge()` from `sklearn.linear_model` to test impact of L2 regularization.\n",
        "- Compare MSE to the basic linear regression model.\n"
      ],
      "metadata": {
        "id": "sMjkrQ3nGG6B"
      },
      "id": "sMjkrQ3nGG6B"
    },
    {
      "cell_type": "code",
      "execution_count": null,
      "id": "3fed1b30",
      "metadata": {
        "colab": {
          "base_uri": "https://localhost:8080/"
        },
        "id": "3fed1b30",
        "outputId": "c1feb13d-9003-409a-db6e-9c29d195a752"
      },
      "outputs": [
        {
          "output_type": "stream",
          "name": "stdout",
          "text": [
            "MSE (Ridge): 10.702784548967243\n"
          ]
        }
      ],
      "source": [
        "# Define Ridge model\n",
        "ridge = None # Complete this line\n",
        "ridge.fit(X_train, y_train)\n",
        "\n",
        "# Print MSE\n"
      ]
    },
    {
      "cell_type": "markdown",
      "source": [
        "#### Task 5: KNN Regression\n",
        "- Train a `KNeighborsRegressor()` with default neighbors.\n",
        "- Use `.predict()` to generate predictions and evaluate MSE.\n",
        "- Try different `n_neighbors` values and observe changes."
      ],
      "metadata": {
        "id": "h1jfQNwQGI_o"
      },
      "id": "h1jfQNwQGI_o"
    },
    {
      "cell_type": "code",
      "execution_count": null,
      "id": "23f4b785",
      "metadata": {
        "colab": {
          "base_uri": "https://localhost:8080/"
        },
        "id": "23f4b785",
        "outputId": "e11b162a-4998-4a0b-fdc8-bf86d4fdf7d3"
      },
      "outputs": [
        {
          "output_type": "stream",
          "name": "stdout",
          "text": [
            "MSE (KNN Regression): 17.752617721518984\n"
          ]
        }
      ],
      "source": [
        "from sklearn.neighbors import KNeighborsRegressor\n",
        "\n",
        "# Define KNeighborsRegressor model\n",
        "knn_reg = None # Complete this line\n",
        "knn_reg.fit(X_train, y_train)\n",
        "\n",
        "# Predict\n",
        "y_pred_knn = knn_reg.predict(X_test)\n",
        "\n",
        "# Print MSE\n"
      ]
    },
    {
      "cell_type": "markdown",
      "id": "6cca1434",
      "metadata": {
        "id": "6cca1434"
      },
      "source": [
        "# 🌸 Part 3: Clustering - Iris Dataset\n",
        "\n",
        "\n",
        "The Iris dataset provides a classic setting for exploring machine learning techniques. This assignment introduces unsupervised learning through k-means clustering. The goal is to leverage the features of sepal length, sepal width, petal length, and petal width to explore natural groupings in the data.\n",
        "\n",
        "## Objective\n",
        "\n",
        "Explore unsupervised learning using k-means clustering to uncover natural groupings within the Iris dataset based solely on its features (sepal length, sepal width, petal length, and petal width), without relying on the actual species labels.\n",
        "\n",
        "## Dataset\n",
        "\n",
        "For this assignment, the Iris dataset will be used, featuring information on various attributes of iris flowers. The dataset comprises 150 samples and includes the following attributes:\n",
        "\n",
        "1. `sepal_length`: Continuous feature representing the sepal length of the iris flower.\n",
        "2. `sepal_width`: Continuous feature representing the sepal width of the iris flower.\n",
        "3. `petal_length`: Continuous feature representing the petal length of the iris flower.\n",
        "4. `petal_width`: Continuous feature representing the petal width of the iris flower.\n",
        "5. `species`: Categorical target variable indicating the species of the iris flower (Setosa, Versicolor, or Virginica).\n",
        "\n",
        "\n",
        "## Tasks\n",
        "\n",
        "#### Task 1: Data Exploration\n",
        "- Load iris dataset using `pd.read_csv()` from `iris.csv`\n",
        "- Preview the dataset with `.head()` or `.describe()`."
      ]
    },
    {
      "cell_type": "code",
      "execution_count": null,
      "id": "b91e3ee2",
      "metadata": {
        "colab": {
          "base_uri": "https://localhost:8080/"
        },
        "id": "b91e3ee2",
        "outputId": "a61427f4-03b2-4d4d-d2cf-a65f5de960b4"
      },
      "outputs": [
        {
          "output_type": "stream",
          "name": "stdout",
          "text": [
            "<class 'pandas.core.frame.DataFrame'>\n",
            "RangeIndex: 150 entries, 0 to 149\n",
            "Data columns (total 5 columns):\n",
            " #   Column             Non-Null Count  Dtype  \n",
            "---  ------             --------------  -----  \n",
            " 0   sepal length (cm)  150 non-null    float64\n",
            " 1   sepal width (cm)   150 non-null    float64\n",
            " 2   petal length (cm)  150 non-null    float64\n",
            " 3   petal width (cm)   150 non-null    float64\n",
            " 4   species            150 non-null    int64  \n",
            "dtypes: float64(4), int64(1)\n",
            "memory usage: 6.0 KB\n",
            "None\n",
            "       sepal length (cm)  sepal width (cm)  petal length (cm)  \\\n",
            "count         150.000000        150.000000         150.000000   \n",
            "mean            5.843333          3.057333           3.758000   \n",
            "std             0.828066          0.435866           1.765298   \n",
            "min             4.300000          2.000000           1.000000   \n",
            "25%             5.100000          2.800000           1.600000   \n",
            "50%             5.800000          3.000000           4.350000   \n",
            "75%             6.400000          3.300000           5.100000   \n",
            "max             7.900000          4.400000           6.900000   \n",
            "\n",
            "       petal width (cm)     species  \n",
            "count        150.000000  150.000000  \n",
            "mean           1.199333    1.000000  \n",
            "std            0.762238    0.819232  \n",
            "min            0.100000    0.000000  \n",
            "25%            0.300000    0.000000  \n",
            "50%            1.300000    1.000000  \n",
            "75%            1.800000    2.000000  \n",
            "max            2.500000    2.000000  \n"
          ]
        }
      ],
      "source": [
        "from sklearn.datasets import load_iris\n",
        "import matplotlib.pyplot as plt\n",
        "\n",
        "# Load dataset\n",
        "df = None # Complete this line\n",
        "\n",
        "# Preview the dataset\n"
      ]
    },
    {
      "cell_type": "markdown",
      "source": [
        "#### Task 2: K-Means Clustering\n",
        "- Use `KMeans(n_clusters=3)` to train clustering model.\n",
        "- Predict cluster labels using `.fit_predict()`.\n",
        "- Use `matplotlib.pyplot` to visualize clusters in 2D (e.g., sepal length vs sepal width)."
      ],
      "metadata": {
        "id": "cO68MKN3GTlP"
      },
      "id": "cO68MKN3GTlP"
    },
    {
      "cell_type": "code",
      "execution_count": null,
      "id": "dc82c5d6",
      "metadata": {
        "colab": {
          "base_uri": "https://localhost:8080/",
          "height": 564
        },
        "id": "dc82c5d6",
        "outputId": "740cfe49-1bf4-4644-b1d6-82a122837113"
      },
      "outputs": [
        {
          "output_type": "display_data",
          "data": {
            "text/plain": [
              "<Figure size 800x600 with 1 Axes>"
            ],
            "image/png": "[encoded data removed]"
          },
          "metadata": {}
        }
      ],
      "source": [
        "from sklearn.cluster import KMeans\n",
        "X = df.drop(columns=['species'])\n",
        "\n",
        "# Define KMeans model\n",
        "kmeans = None # Complete this line\n",
        "clusters = kmeans.fit_predict(X)\n",
        "\n",
        "# Create column for cluster assignment\n",
        "df['cluster'] = clusters\n",
        "\n",
        "# Scatter plot for sepal length vs sepal width: colour points by cluster assigned\n"
      ]
    }
  ],
  "metadata": {
    "colab": {
      "provenance": []
    },
    "language_info": {
      "name": "python"
    },
    "kernelspec": {
      "name": "python3",
      "display_name": "Python 3"
    }
  },
  "nbformat": 4,
  "nbformat_minor": 5
}