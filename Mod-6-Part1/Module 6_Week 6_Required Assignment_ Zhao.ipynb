{
 "cells": [
  {
   "cell_type": "code",
   "execution_count": null,
   "metadata": {
    "vscode": {
     "languageId": "plaintext"
    }
   },
   "outputs": [],
   "source": [
    "# Q1\n",
    "# a) Declaring variables for name, age, and height\n",
    "name = input(\"Enter your name: \")\n",
    "age = int(input(\"Enter your age: \"))\n",
    "height = float(input(\"Enter your height in centimeters: \"))\n",
    "\n",
    "# b) Printing a greeting message using the name\n",
    "print(f\"Hello, {name}!\")\n",
    "\n",
    "# c) Calculating the user’s age 10 years from now\n",
    "age_in_10_years = age + 10\n",
    "print(f\"You will be {age_in_10_years} years old in 10 years.\")\n",
    "\n",
    "# d) Displaying height in meters by converting height from centimeters\n",
    "height_meters = height / 100\n",
    "print(f\"Your height in meters is {height_meters:.2f} meters.\")\n",
    "\n",
    "# Q2\n",
    "# a) Prompting the user to enter a number\n",
    "userInput = float(input(\"Enter a number: \"))\n",
    "\n",
    "# b) Checking if the number is positive, negative, or zero\n",
    "if userInput > 0:\n",
    "    print(\"The number is positive.\")\n",
    "elif userInput < 0:\n",
    "    print(\"The number is negative.\")\n",
    "else:\n",
    "    print(\"The number is zero.\")\n",
    "\n",
    "# Q3\n",
    "# a) Prompting the user to input an integer n\n",
    "n = int(input(\"Enter an integer n: \"))\n",
    "\n",
    "# b) Using a for loop to print all even numbers from 1 up to n\n",
    "print(\"Even numbers from 1 to\", n, \":\")\n",
    "for i in range(2, n+1, 2):  # start at 2, increment by 2 to get even numbers, To note that range doesnt include end, hence n+1 is needed when n is an even number\n",
    "    print(i)\n",
    "\n",
    "# Q4\n",
    "# a) Defining a function to calculate the area of a rectangle\n",
    "def calculate_area(length, width):\n",
    "    return length * width\n",
    "\n",
    "# b) Prompting the user to input values for length and width\n",
    "length = float(input(\"Enter the length of the rectangle: \"))\n",
    "width = float(input(\"Enter the width of the rectangle: \"))\n",
    "\n",
    "# c) Calling the function and displaying the area\n",
    "area = calculate_area(length, width)\n",
    "print(\"The area of the rectangle is: \", area)"
   ]
  }
 ],
 "metadata": {
  "language_info": {
   "name": "python"
  }
 },
 "nbformat": 4,
 "nbformat_minor": 2
}
